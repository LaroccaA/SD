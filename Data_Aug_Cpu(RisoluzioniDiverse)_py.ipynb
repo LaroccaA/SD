{
  "nbformat": 4,
  "nbformat_minor": 0,
  "metadata": {
    "colab": {
      "provenance": [],
      "authorship_tag": "ABX9TyMlQVe4WLqlavVQypqKs6NL"
    },
    "kernelspec": {
      "name": "python3",
      "display_name": "Python 3"
    },
    "language_info": {
      "name": "python"
    }
  },
  "cells": [
    {
      "cell_type": "code",
      "execution_count": null,
      "metadata": {
        "id": "--_zORgAKFnG"
      },
      "outputs": [],
      "source": [
        "import os\n",
        "import time\n",
        "import cv2\n",
        "import shutil\n",
        "\n",
        "def rotate_image(image, angle):\n",
        "    \"\"\"Effettua la rotazione di un'immagine di un angolo specifico senza alterarne la risoluzione.\"\"\"\n",
        "    h, w = image.shape[:2]\n",
        "    center = (w // 2, h // 2)\n",
        "    rotate_matrix = cv2.getRotationMatrix2D(center, angle, 1.0)\n",
        "    rotated_image = cv2.warpAffine(image, rotate_matrix, (w, h), flags=cv2.INTER_LINEAR, borderMode=cv2.BORDER_CONSTANT)\n",
        "    return rotated_image\n",
        "\n",
        "def measure_rotation_times(input_dir):\n",
        "    \"\"\"Misura il tempo di rotazione per immagini di diverse risoluzioni con rotazioni multiple mantenendo la risoluzione originale.\"\"\"\n",
        "    image_files = [f for f in os.listdir(input_dir) if f.endswith(('.png', '.jpg', '.jpeg'))]\n",
        "    if not image_files:\n",
        "        print(\"Nessuna immagine trovata nella directory di input.\")\n",
        "        return\n",
        "\n",
        "    output_dir = \"Output\"\n",
        "    if os.path.exists(output_dir):\n",
        "        shutil.rmtree(output_dir)\n",
        "    os.makedirs(output_dir)\n",
        "\n",
        "    print(f\"Numero di immagini trovate: {len(image_files)}\")\n",
        "\n",
        "    report = []\n",
        "\n",
        "    for filename in image_files:\n",
        "        image_path = os.path.join(input_dir, filename)\n",
        "        image = cv2.imread(image_path, cv2.IMREAD_COLOR)\n",
        "        if image is None:\n",
        "            print(f\"Errore nel leggere l'immagine {filename}, la ignoro.\")\n",
        "            continue\n",
        "\n",
        "        h, w = image.shape[:2]\n",
        "        print(f\"DEBUG: Risoluzione caricata di {filename}: {w}x{h}\")\n",
        "        image_report = [f\"Immagine: {filename} | Risoluzione: {w}x{h}\"]\n",
        "\n",
        "        for angle in range(30, 360, 30):\n",
        "            start_time = time.perf_counter()\n",
        "            rotated_image = rotate_image(image, angle)\n",
        "            end_time = time.perf_counter()\n",
        "\n",
        "            output_path = os.path.join(output_dir, f\"{filename}_rotated_{angle}.png\")\n",
        "            cv2.imwrite(output_path, rotated_image)\n",
        "\n",
        "            duration = end_time - start_time\n",
        "            image_report.append(f\"Angolo: {angle}° | Tempo di rotazione: {duration:.6f} secondi\")\n",
        "\n",
        "        report.extend(image_report)\n",
        "\n",
        "    # Stampa il report finale\n",
        "    print(\"\\n--- Report Finale ---\")\n",
        "    for entry in report:\n",
        "        print(entry)\n",
        "\n",
        "if __name__ == \"__main__\":\n",
        "    input_folder = r\"Dataset\"\n",
        "    measure_rotation_times(input_folder)\n"
      ]
    }
  ]
}